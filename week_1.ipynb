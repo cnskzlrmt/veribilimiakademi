{
 "cells": [
  {
   "cell_type": "markdown",
   "metadata": {},
   "source": [
    "## Week 1"
   ]
  },
  {
   "cell_type": "markdown",
   "metadata": {},
   "source": [
    "### Exercise 1:\n",
    "Write a function that receives a list as parameter and return how many elements it has; if it doesn't have any element return an error."
   ]
  },
  {
   "cell_type": "markdown",
   "metadata": {},
   "source": [
    "#### Solution 1:"
   ]
  },
  {
   "cell_type": "code",
   "execution_count": 19,
   "metadata": {},
   "outputs": [
    {
     "data": {
      "text/plain": [
       "5"
      ]
     },
     "execution_count": 19,
     "metadata": {},
     "output_type": "execute_result"
    }
   ],
   "source": [
    " def element_counter(arr):\n",
    "        uzunluk = len(arr)\n",
    "        if uzunluk > 0 :\n",
    "            return uzunluk\n",
    "        else:\n",
    "            raise ValueError(\"Liste Boş\")\n",
    "\n",
    "#deneme        \n",
    "x=['veri','bilimi', 56, 25.5, 'akademi']\n",
    "y=[]\n",
    "element_counter(x)\n",
    "    "
   ]
  },
  {
   "cell_type": "markdown",
   "metadata": {},
   "source": [
    "### Exercise 2:\n",
    "Write a function that receives a string as parameter and return the number of each character in it."
   ]
  },
  {
   "cell_type": "code",
   "execution_count": 2,
   "metadata": {},
   "outputs": [
    {
     "name": "stdout",
     "output_type": "stream",
     "text": [
      "{'h': 1, 'e': 2, 'l': 2, 'o': 1, ' ': 2, 'a': 2, 'i': 1, 'r': 1}\n"
     ]
    }
   ],
   "source": [
    "def char_number(string):\n",
    "    char_dict = {}\n",
    "    for char in string:\n",
    "        if char in char_dict:\n",
    "            char_dict[char] += 1\n",
    "        else:\n",
    "            char_dict[char] = 1\n",
    "\n",
    "    return char_dict\n",
    "\n",
    "# deneme\n",
    "a = \"hello ai era\"\n",
    "result = char_number(a)\n",
    "print(result)\n"
   ]
  }
 ],
 "metadata": {
  "kernelspec": {
   "display_name": "Python 3 (ipykernel)",
   "language": "python",
   "name": "python3"
  },
  "language_info": {
   "codemirror_mode": {
    "name": "ipython",
    "version": 3
   },
   "file_extension": ".py",
   "mimetype": "text/x-python",
   "name": "python",
   "nbconvert_exporter": "python",
   "pygments_lexer": "ipython3",
   "version": "3.11.5"
  }
 },
 "nbformat": 4,
 "nbformat_minor": 2
}
